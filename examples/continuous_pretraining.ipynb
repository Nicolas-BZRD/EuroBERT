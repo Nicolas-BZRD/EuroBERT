{
  "cells": [
    {
      "cell_type": "markdown",
      "metadata": {
        "id": "03K2kn6gzBuh"
      },
      "source": [
        "# EuroBERT - Continuous Pre-training with Optimus Library"
      ]
    },
    {
      "cell_type": "markdown",
      "metadata": {
        "id": "0rvqywvQzieR"
      },
      "source": [
        "This tutorial guides you through training a EuroBERT model using the Optimus library, extending its language support by adding Finnish. We cover installation, data preprocessing, model training, and loading the trained model.\n",
        "\n",
        "This tutorial is divided into two parts: training in pure Python and executing the optimus library directly from the command line (useful for distributed settings and server training).\n",
        "\n",
        "**Table of contents**\n",
        "- 🐍 [Python](#python)\n",
        "- 💻 [Command Line](#command-line)\n",
        "\n",
        "**Resources:**\n",
        "\n",
        "- 🤖 [EuroBERT](https://huggingface.co/EuroBERT)\n",
        "- 🚀 [Optimus training library](https://github.com/Nicolas-BZRD/EuroBERT)\n",
        "- 📄 [Paper](https://arxiv.org/pdf/2503.05500)\n",
        "- 📚 [Data we will use](https://huggingface.co/datasets/Finnish-NLP/wikipedia_20230501_fi_cleaned)"
      ]
    },
    {
      "cell_type": "markdown",
      "metadata": {
        "id": "fU-A10D4zSLZ"
      },
      "source": [
        "## Installing Optimus"
      ]
    },
    {
      "cell_type": "markdown",
      "metadata": {
        "id": "yuRdHDeTzfbX"
      },
      "source": [
        "Before training EuroBERT, install the Optimus library.\n",
        "\n",
        "⚠️ **On Google Colab, you may encounter dependency conflicts, and the runtime may need to restart after the first installation. Simply rerun the cell once the installation is complete to load Optimus and continue the tutorial.**"
      ]
    },
    {
      "cell_type": "code",
      "execution_count": null,
      "metadata": {
        "colab": {
          "base_uri": "https://localhost:8080/"
        },
        "id": "foF0Xodz-3Yg",
        "outputId": "05e611cb-2a3c-4d27-8156-9a5bf6ab2074"
      },
      "outputs": [],
      "source": [
        "try:\n",
        "  import optimus\n",
        "  print(\"\\033[92mOptimus already installed\\033[0m\")\n",
        "except ImportError:\n",
        "  !pip install git+https://github.com/Nicolas-BZRD/EuroBERT.git"
      ]
    },
    {
      "cell_type": "markdown",
      "metadata": {
        "id": "5Nw30ZQKbX4S"
      },
      "source": [
        "---"
      ]
    },
    {
      "cell_type": "markdown",
      "metadata": {
        "id": "rPKU5YMKjvVn"
      },
      "source": [
        "## Python"
      ]
    },
    {
      "cell_type": "markdown",
      "metadata": {
        "id": "LlAGFXLj4uYM"
      },
      "source": [
        "## Data Preparation"
      ]
    },
    {
      "cell_type": "markdown",
      "metadata": {
        "id": "QkLwsA209bdb"
      },
      "source": [
        "For this tutorial we use the Finnish Wikipedia dataset from [Hugging Face](https://huggingface.co/datasets/Finnish-NLP/wikipedia_20230501_fi_cleaned). The preprocessing steps ensure that the data is formatted correctly for training.\n",
        "\n",
        "**Steps:**\n",
        "1.   Download the dataset.\n",
        "2.   Tokenize the text using the EuroBERT tokenizer.\n",
        "3.   Pack the data **(optional)**\n",
        "4.   Datamix\n",
        "\n",
        "To perform this operation, we need to import the dataprocess function as follows:"
      ]
    },
    {
      "cell_type": "code",
      "execution_count": null,
      "metadata": {
        "id": "I0Hx2RG77Eqp"
      },
      "outputs": [],
      "source": [
        "from optimus import dataprocess"
      ]
    },
    {
      "cell_type": "markdown",
      "metadata": {
        "id": "d-hNR59f5qPi"
      },
      "source": [
        "## 1. Dataset\n",
        "For efficient tokenization, Optimus uses raw data that can be downloaded from Hugging Face using git clone."
      ]
    },
    {
      "cell_type": "code",
      "execution_count": null,
      "metadata": {
        "colab": {
          "base_uri": "https://localhost:8080/"
        },
        "id": "qGh1CbUjz2vY",
        "outputId": "52597184-7fa4-46e6-c718-56e1469f1b41"
      },
      "outputs": [],
      "source": [
        "!git clone https://huggingface.co/datasets/Finnish-NLP/wikipedia_20230501_fi_cleaned"
      ]
    },
    {
      "cell_type": "markdown",
      "metadata": {
        "id": "3Ubo0bFiXaWm"
      },
      "source": [
        "## 2. Tokenize"
      ]
    },
    {
      "cell_type": "markdown",
      "metadata": {
        "id": "UVkH-UeNEU47"
      },
      "source": [
        "We download the Llama tokenizer to use with `tiktoken`, which provides a significantly faster tokenization process (approximately 2x faster). Alternatively, you can skip this step and directly fill the `tokenizer` with the Hugging Face model ID `EuroBERT/EuroBERT-210m` and set `tiktoken=False`."
      ]
    },
    {
      "cell_type": "code",
      "execution_count": null,
      "metadata": {
        "colab": {
          "base_uri": "https://localhost:8080/"
        },
        "id": "KYOuJs2SWLEC",
        "outputId": "6307768c-b5d9-4543-ecae-d541e6eac23f"
      },
      "outputs": [],
      "source": [
        "!wget https://github.com/Nicolas-BZRD/EuroBERT/tree/main/exemples/tokenizer/tokenizer.model"
      ]
    },
    {
      "cell_type": "markdown",
      "metadata": {
        "id": "9PppS_MZZF7D"
      },
      "source": [
        "Finnish wikipedia consists of 11 columns, including \"text\", \"id\", and \"url\". These three columns align with the expected format of our processing script for [Wikipedia dumps](https://github.com/Nicolas-BZRD/EuroBERT/blob/main/optimus/dataprocess/dataset/wikipedia.py).\n",
        "\n",
        "If you need to work with other datasets, refer to the [existing dataset](https://github.com/Nicolas-BZRD/EuroBERT/blob/main/optimus/dataprocess/dataset) scripts as examples to create a compatible processing script."
      ]
    },
    {
      "cell_type": "code",
      "execution_count": null,
      "metadata": {
        "colab": {
          "base_uri": "https://localhost:8080/"
        },
        "id": "mPOzRPCel0iV",
        "outputId": "1d459e02-cb8a-4d4b-a9f3-149ff6222d19"
      },
      "outputs": [],
      "source": [
        "dataprocess.tokenize_dataset(\n",
        "    input_dir=\"/content/wikipedia_20230501_fi_cleaned\",  # Path to the raw dataset\n",
        "    tokenizer=\"/content/tokenizer.model\",  # Path to the EuroBERT tokenizer model or HuggingFace model ID\n",
        "    dataset=\"wikipedia\",  # Dataset format (e.g., 'wikipedia')\n",
        "    output_dir=\"/content/tokenized\",  # Directory where the tokenized data will be saved\n",
        "    num_workers=\"max\",  # Use the maximum available workers for parallel processing\n",
        "    head=1,  # Sample only 1 record (~8134444 tokens)\n",
        "    tiktoken=True  # Enable TikToken for efficient tokenization\n",
        ")"
      ]
    },
    {
      "cell_type": "markdown",
      "metadata": {
        "id": "ikf-simDtzxH"
      },
      "source": [
        "As you can see, Optimus tokenization is quite fast. You should be able to tokenize 8 million Wikipedia tokens in less than 8 seconds using a single CPU on Google Colab."
      ]
    },
    {
      "cell_type": "code",
      "execution_count": null,
      "metadata": {
        "colab": {
          "base_uri": "https://localhost:8080/"
        },
        "id": "yToSLHgHaifs",
        "outputId": "5e2da727-e14a-4cfe-8afd-a0746924b619"
      },
      "outputs": [],
      "source": [
        "import json\n",
        "with open(\"/content/tokenized/metadata.json\", \"r\") as f:\n",
        "    data = json.load(f)\n",
        "    print(json.dumps(data, indent=4))"
      ]
    },
    {
      "cell_type": "markdown",
      "metadata": {
        "id": "LPUnoowfaVlH"
      },
      "source": [
        "Additionally, we can observe the first sample of our data to verify that everything seems good."
      ]
    },
    {
      "cell_type": "code",
      "execution_count": null,
      "metadata": {
        "colab": {
          "base_uri": "https://localhost:8080/",
          "height": 456,
          "referenced_widgets": [
            "34ea4536532a4fbb9528cacc287a9ee4",
            "5455a9fd3587436c83a6eab54ce14ac5",
            "d65cc3e2988c4909ade48b52f1837624",
            "c1df5dc24d4c48d69dfc516fd2ba3625",
            "0efbd6799d474c6d8813b08fc14b95d3",
            "f798e46a91c8410aa892d1f478ad2d70",
            "a0aa05ed25f14fdc8c9d9d0772df1b40",
            "1af399b3030d477ea3e8950f336898b6",
            "b47069e9330c4001bec598d9cd176f25",
            "31374a66336845d698bbd195587ab97e",
            "e9fb139c680449399a4b3df81d8623c5",
            "2e8beb60abcd49b1a28cdb3d8f99b7ac",
            "461ca99b07a7410b8b01878e01553b7b",
            "47c38e060d65469185cdd850fee84d9e",
            "665939cf0d2940fa976d9e80157e65e6",
            "69b3b68727fa41d8aecf7f997faba394",
            "a4c275156d094545ba187ff1a02fa6ec",
            "6325154b87d543d392c59db52668ae7c",
            "08963c498d8747dc9b8158c25fa03d21",
            "dbfd78acaa2f47a29c3503bfbb85f214",
            "a68130d522e0446da6a20bbc8c649eb2",
            "3eac733da7ad49df95ee28f892cbec1b",
            "92e2ad1d18944c8b81edd486a56f0975",
            "33db105ed6ea46a287ea5f3714c10c24",
            "d8350e772fed4996b27c95a8ea0f4e07",
            "a0adfd34a6a243849cc8fba32e0880f9",
            "7e913f76f66a45b3ae83ef38bf5aae54",
            "ff9313fa35e6480aa8a205f8a0d6f3f3",
            "1dbd7bebf58b480293be2c5859a3556d",
            "82e58644ba2a4aa1978810004548f108",
            "dfb5bc100e2544cdbfa86f97422ef91d",
            "c95f22480c3342679be474220d2e31f6",
            "0743f7468b254209abbc89b4fb5d8434"
          ]
        },
        "id": "b8vb6d7Nl7KT",
        "outputId": "62123e73-b5e1-48ec-8beb-e7afb03b288f"
      },
      "outputs": [],
      "source": [
        "dataprocess.inspect_dataset(input_dir=\"/content/tokenized\", tokenizer=\"EuroBERT/EuroBERT-210m\", num_samples=1)"
      ]
    },
    {
      "cell_type": "markdown",
      "metadata": {
        "id": "OzWsBvlkb1ev"
      },
      "source": [
        "## 3. Pack **(optional)**"
      ]
    },
    {
      "cell_type": "markdown",
      "metadata": {
        "id": "GlAW9U3g1xcS"
      },
      "source": [
        "Packing data ensures that all sentences have the same length during training, providing a consistent effective batch size. Otherwise, you can skip this step and pass the `config.data.var_len=True` argument during training. For this tutorial, we will pack sentences to a size of 2048."
      ]
    },
    {
      "cell_type": "code",
      "execution_count": null,
      "metadata": {
        "colab": {
          "base_uri": "https://localhost:8080/"
        },
        "id": "PuChxeXi2VA5",
        "outputId": "f032741e-0cea-4b4c-aa48-e12673b12bae"
      },
      "outputs": [],
      "source": [
        "dataprocess.pack_dataset(input_dir=\"/content/tokenized\", output_dir=\"/content/packed\", block_size=2048, num_workers=1)"
      ]
    },
    {
      "cell_type": "markdown",
      "metadata": {
        "id": "nq86s3fr4H9V"
      },
      "source": [
        "Inspecting the data now reveal that ecery sample have a sentence length of 2048 as expected."
      ]
    },
    {
      "cell_type": "code",
      "execution_count": null,
      "metadata": {
        "colab": {
          "base_uri": "https://localhost:8080/"
        },
        "id": "hP0m2kbn2aZy",
        "outputId": "35f8b073-c433-427a-c70d-dd76ca1b8e4b"
      },
      "outputs": [],
      "source": [
        "dataprocess.inspect_dataset(input_dir=\"/content/packed/train\", tokenizer=\"/content/tokenizer.model\", num_samples=2, tiktoken=True)"
      ]
    },
    {
      "cell_type": "markdown",
      "metadata": {
        "id": "nUCothpue_ya"
      },
      "source": [
        "## 4. Create the Datamix"
      ]
    },
    {
      "cell_type": "markdown",
      "metadata": {
        "id": "Jr1VvrUJfFra"
      },
      "source": [
        "### Data Mix Creation\n",
        "\n",
        "With our data processed, we can now create the data mix. This consists of a JSON file listing the different datasets we have processed and wish to incorporate during training in a list. We can individually select the number of samples to include from each dataset, and the Optimus library will automatically create the training mix, ensuring shuffling between each dataset.\n",
        "\n",
        "- Proportion: ratio (float)\n",
        "- Choose: samples (int)\n",
        "\n",
        "```json\n",
        "[\n",
        "  {\n",
        "    \"local\": \"dataset_processed_path\",\n",
        "    \"choose\": 200,\n",
        "  },\n",
        "    {\n",
        "    \"local\": \"dataset2_processed_path\",\n",
        "    \"proportion\": 1.5,\n",
        "  }\n",
        "]\n",
        "```"
      ]
    },
    {
      "cell_type": "code",
      "execution_count": null,
      "metadata": {
        "id": "a22GzMmEJl9W"
      },
      "outputs": [],
      "source": [
        "import os\n",
        "\n",
        "train = [\n",
        "    {\n",
        "        \"local\": \"/content/packed/train\",\n",
        "        \"choose\": 200\n",
        "    },\n",
        "]\n",
        "\n",
        "os.makedirs(\"/content/datamix\", exist_ok=True)\n",
        "with open(\"/content/datamix/train.json\", \"w\") as f:\n",
        "    json.dump(train, f)"
      ]
    },
    {
      "cell_type": "markdown",
      "metadata": {
        "id": "whkW_83VhZwV"
      },
      "source": [
        "**The mix should be named `train.json` otherwise, it will not be found by Optimus during training.**"
      ]
    },
    {
      "cell_type": "markdown",
      "metadata": {
        "id": "HIx8tV14hagv"
      },
      "source": [
        "---"
      ]
    },
    {
      "cell_type": "markdown",
      "metadata": {
        "id": "l-3dY_V84MO6"
      },
      "source": [
        "## 5. Training"
      ]
    },
    {
      "cell_type": "markdown",
      "metadata": {
        "id": "M9t631cqd7a9"
      },
      "source": [
        "After processing the data, we start training our model. In this section, we use Python entirely. You can also run the command `python optimus.train` with all configuration arguments, which will achieve similar behavior. For example:\n",
        "\n",
        "```bash\n",
        "python -m optimus.train --huggingface_id EuroBERT/EuroBERT-210m --output_dir \"/content/model\" --lr_scheduler \"OneCycleLR\" --div_factor 10 --end_start 0.9 --final_div_factor 100 --save_step 100 --data_mix_path \"/content/datamix\" --batch_size 1 --gpu\n",
        "```"
      ]
    },
    {
      "cell_type": "code",
      "execution_count": null,
      "metadata": {
        "id": "v-KchWfy4CTw"
      },
      "outputs": [],
      "source": [
        "from optimus.trainer.configuration.configs import Config\n",
        "from optimus.trainer.data import Data\n",
        "from optimus.trainer.model.load import load_model, load_tokenizer\n",
        "from optimus.trainer.pretrain import Pretrain"
      ]
    },
    {
      "cell_type": "markdown",
      "metadata": {
        "id": "2TgtA_WZct-C"
      },
      "source": [
        "Let's configure our training. As you can see, we specify the model name, learning rate configuration, and data mix."
      ]
    },
    {
      "cell_type": "code",
      "execution_count": null,
      "metadata": {
        "id": "WyhyIcU25Q4I"
      },
      "outputs": [],
      "source": [
        "config = Config()\n",
        "\n",
        "config.model.huggingface_id = \"EuroBERT/EuroBERT-210m\"\n",
        "config.model.gpu = True # If you don't have GPU set it to False.\n",
        "\n",
        "config.train.output_dir = \"/content/model\"\n",
        "config.train.lr_scheduler = \"OneCycleLR\"\n",
        "config.train.div_factor = 10\n",
        "config.train.pct_start = 0.3\n",
        "config.train.final_div_factor = 100\n",
        "config.train.save_step = 100\n",
        "\n",
        "config.data.data_mix_path = \"/content/datamix\"\n",
        "config.data.batch_size = 1"
      ]
    },
    {
      "cell_type": "markdown",
      "metadata": {
        "id": "_qGz4OEHGDge"
      },
      "source": [
        "We recommend that you check the training documentation in Optimus for the complete list of configuration options. Alternatively, you can run the following Python code to print the different configuration sections:\n",
        "\n",
        "```python\n",
        "print(\"Model\")\n",
        "print(json.dumps(asdict(config.model), indent=4))\n",
        "print(\"Data\")\n",
        "print(json.dumps(asdict(config.data), indent=4))\n",
        "print(\"Train\")\n",
        "print(json.dumps(asdict(config.train), indent=4))\n",
        "```"
      ]
    },
    {
      "cell_type": "markdown",
      "metadata": {
        "id": "bpBer445JUwh"
      },
      "source": [
        "We can then launch the training. In this example, we do not use distributed training, so we set the distributed object responsible for training supervision to `None`."
      ]
    },
    {
      "cell_type": "code",
      "execution_count": null,
      "metadata": {
        "colab": {
          "base_uri": "https://localhost:8080/",
          "height": 1000,
          "referenced_widgets": [
            "a3b62f918b544a6092d13ac6f637a1d5",
            "52a4924f76ac4040a10d80f2e41d85c5",
            "5a83be75e10945f8b0af7bc44276d124",
            "7cd1ebdd884741bda28abce56f2fffb0",
            "891dfa36ae4044c395b247788608944a",
            "af965e897716461b9e33ca491ac567fd",
            "5985157bcc954b78a49274dda291c363",
            "6c44d7fb63214d46af08ebdd759ee53e",
            "168cf53139f84758bc90ce3b6a154256",
            "28af5c070dc446aca3d74c22a041e14f",
            "c1f3c98b4eed4e9f8b357b76946ac499",
            "3308cb44d22b4862be1f5a5facec6985",
            "8c4abe02f9c6447e8d9a158f7cdc3d16",
            "6827b2cfc0414e1ebd77e7e6c026b18c",
            "d6f238286736428190f7561fcca8746e",
            "f58866e85af24241b68112743993c40a",
            "361e83915b194ad38a3fadaef2b5c5da",
            "78197911b93644af84fd51e8bf0f0651",
            "ae063ceb11614e1dba3ac0f79320bbcb",
            "48a23f0a7b6b444d945c5f5023c635b4",
            "2ad342334cf54609824a856284729674",
            "5c701aeee52d40a8b87cbb52a5e3b806",
            "dad360a230584e6db43b30ea34bb1a4d",
            "c4789298fc0743c1b0b30e33347e8c95",
            "a7ffb185ed4b40668b6dee5d288223d1",
            "5143a2a9416b426c9eae6c1596067bc2",
            "193d3071e8444709911bfda47a6d0293",
            "bba91b51b65848dcb235ba51f7fe7c88",
            "426264b00c234e4d96c4a3fe1a0eedc5",
            "f3e1fc14edde4629bce63d5934336e60",
            "509a4b31545d4584b7a0731ba5d5a7b7",
            "0d17791a42fd4eb09692ea1b5a1b525c",
            "7fffd3f854484a6283cbf82c06d96105",
            "2c48695c83c2483eb8e4c0f476267137",
            "3eafe91386b44f599e6ce2d1e39c4055",
            "9ac47e99de4e4d63b9530a27681d6023",
            "16b219068c92459fb25965c985870645",
            "e86877405c04456f92ddb86161cac54b",
            "d30a9e76610a49929e0a597e738a70cc",
            "f76c8067e6024371bd54ea186917a7ff",
            "3383c26564c34834b486ed3cf9555794",
            "59652589ab22418eb1d7ad50b5c85887",
            "35b01a9d37374bc89eabda342aee015d",
            "58e831e4c82c49cfb40ed7ed2f6cf4bd"
          ]
        },
        "id": "uc9_l9U6JTcB",
        "outputId": "6fd27f74-adf4-4ab4-a323-a5647ea7696f"
      },
      "outputs": [],
      "source": [
        "distributed = None\n",
        "\n",
        "model = load_model(config)\n",
        "tokenizer = load_tokenizer(config)\n",
        "\n",
        "data = Data(config, tokenizer)\n",
        "\n",
        "pretrain = Pretrain(model, data, distributed, config)\n",
        "pretrain.train()\n",
        "\n",
        "config.log_print(\"Training completed successfully.\")"
      ]
    },
    {
      "cell_type": "markdown",
      "metadata": {
        "id": "UZegpNHDiugg"
      },
      "source": [
        "---"
      ]
    },
    {
      "cell_type": "markdown",
      "metadata": {
        "id": "4q58Fk2ykMGk"
      },
      "source": [
        "## Command Line"
      ]
    },
    {
      "cell_type": "markdown",
      "metadata": {
        "id": "kQ2eQPeli727"
      },
      "source": [
        "Following the step descript in the Python section it's also possible to launch training in only a few command line as follow:"
      ]
    },
    {
      "cell_type": "code",
      "execution_count": null,
      "metadata": {
        "id": "P5sLzSmmnQLc"
      },
      "outputs": [],
      "source": [
        "# Remove word done previously\n",
        "import torch\n",
        "import gc\n",
        "del model, tokenizer, data, pretrain, distributed\n",
        "gc.collect()\n",
        "torch.cuda.empty_cache()\n",
        "!rm -r /content/*"
      ]
    },
    {
      "cell_type": "code",
      "execution_count": null,
      "metadata": {
        "colab": {
          "base_uri": "https://localhost:8080/"
        },
        "id": "OJvGbClvn-ut",
        "outputId": "660e702f-2c20-49d3-961d-5892d538be26"
      },
      "outputs": [],
      "source": [
        "# Download ressources\n",
        "!git clone https://huggingface.co/datasets/Finnish-NLP/wikipedia_20230501_fi_cleaned\n",
        "!wget https://raw.githubusercontent.com/Nicolas-BZRD/EuroBERT/tuto-continuous-pretraining/exemples/tokenizer/tokenizer.model"
      ]
    },
    {
      "cell_type": "code",
      "execution_count": null,
      "metadata": {
        "id": "0GpHGminu7-1"
      },
      "outputs": [],
      "source": [
        "# Dataset Mix\n",
        "!mkdir -p /content/datamix && echo '[{\"local\": \"/content/packed/train\", \"choose\": 200}]' > /content/datamix/train.json"
      ]
    },
    {
      "cell_type": "markdown",
      "metadata": {
        "id": "tsbcmpTSnMum"
      },
      "source": [
        "The training is performed from A to Z with three four command lines."
      ]
    },
    {
      "cell_type": "code",
      "execution_count": null,
      "metadata": {
        "colab": {
          "base_uri": "https://localhost:8080/"
        },
        "id": "jZeDXO1DnyOe",
        "outputId": "8b656b17-fb29-465a-a0e3-860728fef796"
      },
      "outputs": [],
      "source": [
        "!python -m optimus.dataprocess.tokenize_dataset --input_dir \"/content/wikipedia_20230501_fi_cleaned\" --tokenizer \"/content/tokenizer.model\" --dataset \"wikipedia\" --output_dir \"/content/tokenized\" --num_workers \"max\" --head 1 --tiktoken\n",
        "!python -m optimus.dataprocess.pack_dataset --input_dir \"/content/tokenized\" --output_dir \"/content/packed\" --block_size 2048 --num_workers 1\n",
        "!python -m optimus.train --huggingface_id EuroBERT/EuroBERT-210m --output_dir \"/content/model\" --lr_scheduler \"OneCycleLR\" --div_factor 10 --pct_start 0.3 --final_div_factor 100 --save_step 100 --data_mix_path \"/content/datamix\" --batch_size 1 --gpu"
      ]
    },
    {
      "cell_type": "markdown",
      "metadata": {},
      "source": [
        "For extensive training requiring further optimization, feel free to reach us at `nicolas(dot)boizard[at]centralesupelec(dot)fr`"
      ]
    }
  ],
  "metadata": {
    "accelerator": "GPU",
    "colab": {
      "cell_execution_strategy": "setup",
      "gpuType": "T4",
      "provenance": []
    },
    "kernelspec": {
      "display_name": "eurobert",
      "language": "python",
      "name": "python3"
    },
    "language_info": {
      "codemirror_mode": {
        "name": "ipython",
        "version": 3
      },
      "file_extension": ".py",
      "mimetype": "text/x-python",
      "name": "python",
      "nbconvert_exporter": "python",
      "pygments_lexer": "ipython3",
      "version": "3.11.11"
    },
    "widgets": {
      "application/vnd.jupyter.widget-state+json": {
        "0743f7468b254209abbc89b4fb5d8434": {
          "model_module": "@jupyter-widgets/controls",
          "model_module_version": "1.5.0",
          "model_name": "DescriptionStyleModel",
          "state": {
            "_model_module": "@jupyter-widgets/controls",
            "_model_module_version": "1.5.0",
            "_model_name": "DescriptionStyleModel",
            "_view_count": null,
            "_view_module": "@jupyter-widgets/base",
            "_view_module_version": "1.2.0",
            "_view_name": "StyleView",
            "description_width": ""
          }
        },
        "08963c498d8747dc9b8158c25fa03d21": {
          "model_module": "@jupyter-widgets/base",
          "model_module_version": "1.2.0",
          "model_name": "LayoutModel",
          "state": {
            "_model_module": "@jupyter-widgets/base",
            "_model_module_version": "1.2.0",
            "_model_name": "LayoutModel",
            "_view_count": null,
            "_view_module": "@jupyter-widgets/base",
            "_view_module_version": "1.2.0",
            "_view_name": "LayoutView",
            "align_content": null,
            "align_items": null,
            "align_self": null,
            "border": null,
            "bottom": null,
            "display": null,
            "flex": null,
            "flex_flow": null,
            "grid_area": null,
            "grid_auto_columns": null,
            "grid_auto_flow": null,
            "grid_auto_rows": null,
            "grid_column": null,
            "grid_gap": null,
            "grid_row": null,
            "grid_template_areas": null,
            "grid_template_columns": null,
            "grid_template_rows": null,
            "height": null,
            "justify_content": null,
            "justify_items": null,
            "left": null,
            "margin": null,
            "max_height": null,
            "max_width": null,
            "min_height": null,
            "min_width": null,
            "object_fit": null,
            "object_position": null,
            "order": null,
            "overflow": null,
            "overflow_x": null,
            "overflow_y": null,
            "padding": null,
            "right": null,
            "top": null,
            "visibility": null,
            "width": null
          }
        },
        "0d17791a42fd4eb09692ea1b5a1b525c": {
          "model_module": "@jupyter-widgets/base",
          "model_module_version": "1.2.0",
          "model_name": "LayoutModel",
          "state": {
            "_model_module": "@jupyter-widgets/base",
            "_model_module_version": "1.2.0",
            "_model_name": "LayoutModel",
            "_view_count": null,
            "_view_module": "@jupyter-widgets/base",
            "_view_module_version": "1.2.0",
            "_view_name": "LayoutView",
            "align_content": null,
            "align_items": null,
            "align_self": null,
            "border": null,
            "bottom": null,
            "display": null,
            "flex": null,
            "flex_flow": null,
            "grid_area": null,
            "grid_auto_columns": null,
            "grid_auto_flow": null,
            "grid_auto_rows": null,
            "grid_column": null,
            "grid_gap": null,
            "grid_row": null,
            "grid_template_areas": null,
            "grid_template_columns": null,
            "grid_template_rows": null,
            "height": null,
            "justify_content": null,
            "justify_items": null,
            "left": null,
            "margin": null,
            "max_height": null,
            "max_width": null,
            "min_height": null,
            "min_width": null,
            "object_fit": null,
            "object_position": null,
            "order": null,
            "overflow": null,
            "overflow_x": null,
            "overflow_y": null,
            "padding": null,
            "right": null,
            "top": null,
            "visibility": null,
            "width": null
          }
        },
        "0efbd6799d474c6d8813b08fc14b95d3": {
          "model_module": "@jupyter-widgets/base",
          "model_module_version": "1.2.0",
          "model_name": "LayoutModel",
          "state": {
            "_model_module": "@jupyter-widgets/base",
            "_model_module_version": "1.2.0",
            "_model_name": "LayoutModel",
            "_view_count": null,
            "_view_module": "@jupyter-widgets/base",
            "_view_module_version": "1.2.0",
            "_view_name": "LayoutView",
            "align_content": null,
            "align_items": null,
            "align_self": null,
            "border": null,
            "bottom": null,
            "display": null,
            "flex": null,
            "flex_flow": null,
            "grid_area": null,
            "grid_auto_columns": null,
            "grid_auto_flow": null,
            "grid_auto_rows": null,
            "grid_column": null,
            "grid_gap": null,
            "grid_row": null,
            "grid_template_areas": null,
            "grid_template_columns": null,
            "grid_template_rows": null,
            "height": null,
            "justify_content": null,
            "justify_items": null,
            "left": null,
            "margin": null,
            "max_height": null,
            "max_width": null,
            "min_height": null,
            "min_width": null,
            "object_fit": null,
            "object_position": null,
            "order": null,
            "overflow": null,
            "overflow_x": null,
            "overflow_y": null,
            "padding": null,
            "right": null,
            "top": null,
            "visibility": null,
            "width": null
          }
        },
        "168cf53139f84758bc90ce3b6a154256": {
          "model_module": "@jupyter-widgets/controls",
          "model_module_version": "1.5.0",
          "model_name": "ProgressStyleModel",
          "state": {
            "_model_module": "@jupyter-widgets/controls",
            "_model_module_version": "1.5.0",
            "_model_name": "ProgressStyleModel",
            "_view_count": null,
            "_view_module": "@jupyter-widgets/base",
            "_view_module_version": "1.2.0",
            "_view_name": "StyleView",
            "bar_color": null,
            "description_width": ""
          }
        },
        "16b219068c92459fb25965c985870645": {
          "model_module": "@jupyter-widgets/controls",
          "model_module_version": "1.5.0",
          "model_name": "HTMLModel",
          "state": {
            "_dom_classes": [],
            "_model_module": "@jupyter-widgets/controls",
            "_model_module_version": "1.5.0",
            "_model_name": "HTMLModel",
            "_view_count": null,
            "_view_module": "@jupyter-widgets/controls",
            "_view_module_version": "1.5.0",
            "_view_name": "HTMLView",
            "description": "",
            "description_tooltip": null,
            "layout": "IPY_MODEL_35b01a9d37374bc89eabda342aee015d",
            "placeholder": "​",
            "style": "IPY_MODEL_58e831e4c82c49cfb40ed7ed2f6cf4bd",
            "value": " 1.24G/1.24G [00:51&lt;00:00, 23.4MB/s]"
          }
        },
        "193d3071e8444709911bfda47a6d0293": {
          "model_module": "@jupyter-widgets/base",
          "model_module_version": "1.2.0",
          "model_name": "LayoutModel",
          "state": {
            "_model_module": "@jupyter-widgets/base",
            "_model_module_version": "1.2.0",
            "_model_name": "LayoutModel",
            "_view_count": null,
            "_view_module": "@jupyter-widgets/base",
            "_view_module_version": "1.2.0",
            "_view_name": "LayoutView",
            "align_content": null,
            "align_items": null,
            "align_self": null,
            "border": null,
            "bottom": null,
            "display": null,
            "flex": null,
            "flex_flow": null,
            "grid_area": null,
            "grid_auto_columns": null,
            "grid_auto_flow": null,
            "grid_auto_rows": null,
            "grid_column": null,
            "grid_gap": null,
            "grid_row": null,
            "grid_template_areas": null,
            "grid_template_columns": null,
            "grid_template_rows": null,
            "height": null,
            "justify_content": null,
            "justify_items": null,
            "left": null,
            "margin": null,
            "max_height": null,
            "max_width": null,
            "min_height": null,
            "min_width": null,
            "object_fit": null,
            "object_position": null,
            "order": null,
            "overflow": null,
            "overflow_x": null,
            "overflow_y": null,
            "padding": null,
            "right": null,
            "top": null,
            "visibility": null,
            "width": null
          }
        },
        "1af399b3030d477ea3e8950f336898b6": {
          "model_module": "@jupyter-widgets/base",
          "model_module_version": "1.2.0",
          "model_name": "LayoutModel",
          "state": {
            "_model_module": "@jupyter-widgets/base",
            "_model_module_version": "1.2.0",
            "_model_name": "LayoutModel",
            "_view_count": null,
            "_view_module": "@jupyter-widgets/base",
            "_view_module_version": "1.2.0",
            "_view_name": "LayoutView",
            "align_content": null,
            "align_items": null,
            "align_self": null,
            "border": null,
            "bottom": null,
            "display": null,
            "flex": null,
            "flex_flow": null,
            "grid_area": null,
            "grid_auto_columns": null,
            "grid_auto_flow": null,
            "grid_auto_rows": null,
            "grid_column": null,
            "grid_gap": null,
            "grid_row": null,
            "grid_template_areas": null,
            "grid_template_columns": null,
            "grid_template_rows": null,
            "height": null,
            "justify_content": null,
            "justify_items": null,
            "left": null,
            "margin": null,
            "max_height": null,
            "max_width": null,
            "min_height": null,
            "min_width": null,
            "object_fit": null,
            "object_position": null,
            "order": null,
            "overflow": null,
            "overflow_x": null,
            "overflow_y": null,
            "padding": null,
            "right": null,
            "top": null,
            "visibility": null,
            "width": null
          }
        },
        "1dbd7bebf58b480293be2c5859a3556d": {
          "model_module": "@jupyter-widgets/controls",
          "model_module_version": "1.5.0",
          "model_name": "DescriptionStyleModel",
          "state": {
            "_model_module": "@jupyter-widgets/controls",
            "_model_module_version": "1.5.0",
            "_model_name": "DescriptionStyleModel",
            "_view_count": null,
            "_view_module": "@jupyter-widgets/base",
            "_view_module_version": "1.2.0",
            "_view_name": "StyleView",
            "description_width": ""
          }
        },
        "28af5c070dc446aca3d74c22a041e14f": {
          "model_module": "@jupyter-widgets/base",
          "model_module_version": "1.2.0",
          "model_name": "LayoutModel",
          "state": {
            "_model_module": "@jupyter-widgets/base",
            "_model_module_version": "1.2.0",
            "_model_name": "LayoutModel",
            "_view_count": null,
            "_view_module": "@jupyter-widgets/base",
            "_view_module_version": "1.2.0",
            "_view_name": "LayoutView",
            "align_content": null,
            "align_items": null,
            "align_self": null,
            "border": null,
            "bottom": null,
            "display": null,
            "flex": null,
            "flex_flow": null,
            "grid_area": null,
            "grid_auto_columns": null,
            "grid_auto_flow": null,
            "grid_auto_rows": null,
            "grid_column": null,
            "grid_gap": null,
            "grid_row": null,
            "grid_template_areas": null,
            "grid_template_columns": null,
            "grid_template_rows": null,
            "height": null,
            "justify_content": null,
            "justify_items": null,
            "left": null,
            "margin": null,
            "max_height": null,
            "max_width": null,
            "min_height": null,
            "min_width": null,
            "object_fit": null,
            "object_position": null,
            "order": null,
            "overflow": null,
            "overflow_x": null,
            "overflow_y": null,
            "padding": null,
            "right": null,
            "top": null,
            "visibility": null,
            "width": null
          }
        },
        "2ad342334cf54609824a856284729674": {
          "model_module": "@jupyter-widgets/base",
          "model_module_version": "1.2.0",
          "model_name": "LayoutModel",
          "state": {
            "_model_module": "@jupyter-widgets/base",
            "_model_module_version": "1.2.0",
            "_model_name": "LayoutModel",
            "_view_count": null,
            "_view_module": "@jupyter-widgets/base",
            "_view_module_version": "1.2.0",
            "_view_name": "LayoutView",
            "align_content": null,
            "align_items": null,
            "align_self": null,
            "border": null,
            "bottom": null,
            "display": null,
            "flex": null,
            "flex_flow": null,
            "grid_area": null,
            "grid_auto_columns": null,
            "grid_auto_flow": null,
            "grid_auto_rows": null,
            "grid_column": null,
            "grid_gap": null,
            "grid_row": null,
            "grid_template_areas": null,
            "grid_template_columns": null,
            "grid_template_rows": null,
            "height": null,
            "justify_content": null,
            "justify_items": null,
            "left": null,
            "margin": null,
            "max_height": null,
            "max_width": null,
            "min_height": null,
            "min_width": null,
            "object_fit": null,
            "object_position": null,
            "order": null,
            "overflow": null,
            "overflow_x": null,
            "overflow_y": null,
            "padding": null,
            "right": null,
            "top": null,
            "visibility": null,
            "width": null
          }
        },
        "2c48695c83c2483eb8e4c0f476267137": {
          "model_module": "@jupyter-widgets/controls",
          "model_module_version": "1.5.0",
          "model_name": "HBoxModel",
          "state": {
            "_dom_classes": [],
            "_model_module": "@jupyter-widgets/controls",
            "_model_module_version": "1.5.0",
            "_model_name": "HBoxModel",
            "_view_count": null,
            "_view_module": "@jupyter-widgets/controls",
            "_view_module_version": "1.5.0",
            "_view_name": "HBoxView",
            "box_style": "",
            "children": [
              "IPY_MODEL_3eafe91386b44f599e6ce2d1e39c4055",
              "IPY_MODEL_9ac47e99de4e4d63b9530a27681d6023",
              "IPY_MODEL_16b219068c92459fb25965c985870645"
            ],
            "layout": "IPY_MODEL_e86877405c04456f92ddb86161cac54b"
          }
        },
        "2e8beb60abcd49b1a28cdb3d8f99b7ac": {
          "model_module": "@jupyter-widgets/controls",
          "model_module_version": "1.5.0",
          "model_name": "HBoxModel",
          "state": {
            "_dom_classes": [],
            "_model_module": "@jupyter-widgets/controls",
            "_model_module_version": "1.5.0",
            "_model_name": "HBoxModel",
            "_view_count": null,
            "_view_module": "@jupyter-widgets/controls",
            "_view_module_version": "1.5.0",
            "_view_name": "HBoxView",
            "box_style": "",
            "children": [
              "IPY_MODEL_461ca99b07a7410b8b01878e01553b7b",
              "IPY_MODEL_47c38e060d65469185cdd850fee84d9e",
              "IPY_MODEL_665939cf0d2940fa976d9e80157e65e6"
            ],
            "layout": "IPY_MODEL_69b3b68727fa41d8aecf7f997faba394"
          }
        },
        "31374a66336845d698bbd195587ab97e": {
          "model_module": "@jupyter-widgets/base",
          "model_module_version": "1.2.0",
          "model_name": "LayoutModel",
          "state": {
            "_model_module": "@jupyter-widgets/base",
            "_model_module_version": "1.2.0",
            "_model_name": "LayoutModel",
            "_view_count": null,
            "_view_module": "@jupyter-widgets/base",
            "_view_module_version": "1.2.0",
            "_view_name": "LayoutView",
            "align_content": null,
            "align_items": null,
            "align_self": null,
            "border": null,
            "bottom": null,
            "display": null,
            "flex": null,
            "flex_flow": null,
            "grid_area": null,
            "grid_auto_columns": null,
            "grid_auto_flow": null,
            "grid_auto_rows": null,
            "grid_column": null,
            "grid_gap": null,
            "grid_row": null,
            "grid_template_areas": null,
            "grid_template_columns": null,
            "grid_template_rows": null,
            "height": null,
            "justify_content": null,
            "justify_items": null,
            "left": null,
            "margin": null,
            "max_height": null,
            "max_width": null,
            "min_height": null,
            "min_width": null,
            "object_fit": null,
            "object_position": null,
            "order": null,
            "overflow": null,
            "overflow_x": null,
            "overflow_y": null,
            "padding": null,
            "right": null,
            "top": null,
            "visibility": null,
            "width": null
          }
        },
        "3308cb44d22b4862be1f5a5facec6985": {
          "model_module": "@jupyter-widgets/controls",
          "model_module_version": "1.5.0",
          "model_name": "HBoxModel",
          "state": {
            "_dom_classes": [],
            "_model_module": "@jupyter-widgets/controls",
            "_model_module_version": "1.5.0",
            "_model_name": "HBoxModel",
            "_view_count": null,
            "_view_module": "@jupyter-widgets/controls",
            "_view_module_version": "1.5.0",
            "_view_name": "HBoxView",
            "box_style": "",
            "children": [
              "IPY_MODEL_8c4abe02f9c6447e8d9a158f7cdc3d16",
              "IPY_MODEL_6827b2cfc0414e1ebd77e7e6c026b18c",
              "IPY_MODEL_d6f238286736428190f7561fcca8746e"
            ],
            "layout": "IPY_MODEL_f58866e85af24241b68112743993c40a"
          }
        },
        "3383c26564c34834b486ed3cf9555794": {
          "model_module": "@jupyter-widgets/base",
          "model_module_version": "1.2.0",
          "model_name": "LayoutModel",
          "state": {
            "_model_module": "@jupyter-widgets/base",
            "_model_module_version": "1.2.0",
            "_model_name": "LayoutModel",
            "_view_count": null,
            "_view_module": "@jupyter-widgets/base",
            "_view_module_version": "1.2.0",
            "_view_name": "LayoutView",
            "align_content": null,
            "align_items": null,
            "align_self": null,
            "border": null,
            "bottom": null,
            "display": null,
            "flex": null,
            "flex_flow": null,
            "grid_area": null,
            "grid_auto_columns": null,
            "grid_auto_flow": null,
            "grid_auto_rows": null,
            "grid_column": null,
            "grid_gap": null,
            "grid_row": null,
            "grid_template_areas": null,
            "grid_template_columns": null,
            "grid_template_rows": null,
            "height": null,
            "justify_content": null,
            "justify_items": null,
            "left": null,
            "margin": null,
            "max_height": null,
            "max_width": null,
            "min_height": null,
            "min_width": null,
            "object_fit": null,
            "object_position": null,
            "order": null,
            "overflow": null,
            "overflow_x": null,
            "overflow_y": null,
            "padding": null,
            "right": null,
            "top": null,
            "visibility": null,
            "width": null
          }
        },
        "33db105ed6ea46a287ea5f3714c10c24": {
          "model_module": "@jupyter-widgets/controls",
          "model_module_version": "1.5.0",
          "model_name": "HTMLModel",
          "state": {
            "_dom_classes": [],
            "_model_module": "@jupyter-widgets/controls",
            "_model_module_version": "1.5.0",
            "_model_name": "HTMLModel",
            "_view_count": null,
            "_view_module": "@jupyter-widgets/controls",
            "_view_module_version": "1.5.0",
            "_view_name": "HTMLView",
            "description": "",
            "description_tooltip": null,
            "layout": "IPY_MODEL_ff9313fa35e6480aa8a205f8a0d6f3f3",
            "placeholder": "​",
            "style": "IPY_MODEL_1dbd7bebf58b480293be2c5859a3556d",
            "value": "special_tokens_map.json: 100%"
          }
        },
        "34ea4536532a4fbb9528cacc287a9ee4": {
          "model_module": "@jupyter-widgets/controls",
          "model_module_version": "1.5.0",
          "model_name": "HBoxModel",
          "state": {
            "_dom_classes": [],
            "_model_module": "@jupyter-widgets/controls",
            "_model_module_version": "1.5.0",
            "_model_name": "HBoxModel",
            "_view_count": null,
            "_view_module": "@jupyter-widgets/controls",
            "_view_module_version": "1.5.0",
            "_view_name": "HBoxView",
            "box_style": "",
            "children": [
              "IPY_MODEL_5455a9fd3587436c83a6eab54ce14ac5",
              "IPY_MODEL_d65cc3e2988c4909ade48b52f1837624",
              "IPY_MODEL_c1df5dc24d4c48d69dfc516fd2ba3625"
            ],
            "layout": "IPY_MODEL_0efbd6799d474c6d8813b08fc14b95d3"
          }
        },
        "35b01a9d37374bc89eabda342aee015d": {
          "model_module": "@jupyter-widgets/base",
          "model_module_version": "1.2.0",
          "model_name": "LayoutModel",
          "state": {
            "_model_module": "@jupyter-widgets/base",
            "_model_module_version": "1.2.0",
            "_model_name": "LayoutModel",
            "_view_count": null,
            "_view_module": "@jupyter-widgets/base",
            "_view_module_version": "1.2.0",
            "_view_name": "LayoutView",
            "align_content": null,
            "align_items": null,
            "align_self": null,
            "border": null,
            "bottom": null,
            "display": null,
            "flex": null,
            "flex_flow": null,
            "grid_area": null,
            "grid_auto_columns": null,
            "grid_auto_flow": null,
            "grid_auto_rows": null,
            "grid_column": null,
            "grid_gap": null,
            "grid_row": null,
            "grid_template_areas": null,
            "grid_template_columns": null,
            "grid_template_rows": null,
            "height": null,
            "justify_content": null,
            "justify_items": null,
            "left": null,
            "margin": null,
            "max_height": null,
            "max_width": null,
            "min_height": null,
            "min_width": null,
            "object_fit": null,
            "object_position": null,
            "order": null,
            "overflow": null,
            "overflow_x": null,
            "overflow_y": null,
            "padding": null,
            "right": null,
            "top": null,
            "visibility": null,
            "width": null
          }
        },
        "361e83915b194ad38a3fadaef2b5c5da": {
          "model_module": "@jupyter-widgets/base",
          "model_module_version": "1.2.0",
          "model_name": "LayoutModel",
          "state": {
            "_model_module": "@jupyter-widgets/base",
            "_model_module_version": "1.2.0",
            "_model_name": "LayoutModel",
            "_view_count": null,
            "_view_module": "@jupyter-widgets/base",
            "_view_module_version": "1.2.0",
            "_view_name": "LayoutView",
            "align_content": null,
            "align_items": null,
            "align_self": null,
            "border": null,
            "bottom": null,
            "display": null,
            "flex": null,
            "flex_flow": null,
            "grid_area": null,
            "grid_auto_columns": null,
            "grid_auto_flow": null,
            "grid_auto_rows": null,
            "grid_column": null,
            "grid_gap": null,
            "grid_row": null,
            "grid_template_areas": null,
            "grid_template_columns": null,
            "grid_template_rows": null,
            "height": null,
            "justify_content": null,
            "justify_items": null,
            "left": null,
            "margin": null,
            "max_height": null,
            "max_width": null,
            "min_height": null,
            "min_width": null,
            "object_fit": null,
            "object_position": null,
            "order": null,
            "overflow": null,
            "overflow_x": null,
            "overflow_y": null,
            "padding": null,
            "right": null,
            "top": null,
            "visibility": null,
            "width": null
          }
        },
        "3eac733da7ad49df95ee28f892cbec1b": {
          "model_module": "@jupyter-widgets/controls",
          "model_module_version": "1.5.0",
          "model_name": "DescriptionStyleModel",
          "state": {
            "_model_module": "@jupyter-widgets/controls",
            "_model_module_version": "1.5.0",
            "_model_name": "DescriptionStyleModel",
            "_view_count": null,
            "_view_module": "@jupyter-widgets/base",
            "_view_module_version": "1.2.0",
            "_view_name": "StyleView",
            "description_width": ""
          }
        },
        "3eafe91386b44f599e6ce2d1e39c4055": {
          "model_module": "@jupyter-widgets/controls",
          "model_module_version": "1.5.0",
          "model_name": "HTMLModel",
          "state": {
            "_dom_classes": [],
            "_model_module": "@jupyter-widgets/controls",
            "_model_module_version": "1.5.0",
            "_model_name": "HTMLModel",
            "_view_count": null,
            "_view_module": "@jupyter-widgets/controls",
            "_view_module_version": "1.5.0",
            "_view_name": "HTMLView",
            "description": "",
            "description_tooltip": null,
            "layout": "IPY_MODEL_d30a9e76610a49929e0a597e738a70cc",
            "placeholder": "​",
            "style": "IPY_MODEL_f76c8067e6024371bd54ea186917a7ff",
            "value": "model.safetensors: 100%"
          }
        },
        "426264b00c234e4d96c4a3fe1a0eedc5": {
          "model_module": "@jupyter-widgets/controls",
          "model_module_version": "1.5.0",
          "model_name": "DescriptionStyleModel",
          "state": {
            "_model_module": "@jupyter-widgets/controls",
            "_model_module_version": "1.5.0",
            "_model_name": "DescriptionStyleModel",
            "_view_count": null,
            "_view_module": "@jupyter-widgets/base",
            "_view_module_version": "1.2.0",
            "_view_name": "StyleView",
            "description_width": ""
          }
        },
        "461ca99b07a7410b8b01878e01553b7b": {
          "model_module": "@jupyter-widgets/controls",
          "model_module_version": "1.5.0",
          "model_name": "HTMLModel",
          "state": {
            "_dom_classes": [],
            "_model_module": "@jupyter-widgets/controls",
            "_model_module_version": "1.5.0",
            "_model_name": "HTMLModel",
            "_view_count": null,
            "_view_module": "@jupyter-widgets/controls",
            "_view_module_version": "1.5.0",
            "_view_name": "HTMLView",
            "description": "",
            "description_tooltip": null,
            "layout": "IPY_MODEL_a4c275156d094545ba187ff1a02fa6ec",
            "placeholder": "​",
            "style": "IPY_MODEL_6325154b87d543d392c59db52668ae7c",
            "value": "tokenizer.json: 100%"
          }
        },
        "47c38e060d65469185cdd850fee84d9e": {
          "model_module": "@jupyter-widgets/controls",
          "model_module_version": "1.5.0",
          "model_name": "FloatProgressModel",
          "state": {
            "_dom_classes": [],
            "_model_module": "@jupyter-widgets/controls",
            "_model_module_version": "1.5.0",
            "_model_name": "FloatProgressModel",
            "_view_count": null,
            "_view_module": "@jupyter-widgets/controls",
            "_view_module_version": "1.5.0",
            "_view_name": "ProgressView",
            "bar_style": "success",
            "description": "",
            "description_tooltip": null,
            "layout": "IPY_MODEL_08963c498d8747dc9b8158c25fa03d21",
            "max": 17210081,
            "min": 0,
            "orientation": "horizontal",
            "style": "IPY_MODEL_dbfd78acaa2f47a29c3503bfbb85f214",
            "value": 17210081
          }
        },
        "48a23f0a7b6b444d945c5f5023c635b4": {
          "model_module": "@jupyter-widgets/controls",
          "model_module_version": "1.5.0",
          "model_name": "ProgressStyleModel",
          "state": {
            "_model_module": "@jupyter-widgets/controls",
            "_model_module_version": "1.5.0",
            "_model_name": "ProgressStyleModel",
            "_view_count": null,
            "_view_module": "@jupyter-widgets/base",
            "_view_module_version": "1.2.0",
            "_view_name": "StyleView",
            "bar_color": null,
            "description_width": ""
          }
        },
        "509a4b31545d4584b7a0731ba5d5a7b7": {
          "model_module": "@jupyter-widgets/controls",
          "model_module_version": "1.5.0",
          "model_name": "ProgressStyleModel",
          "state": {
            "_model_module": "@jupyter-widgets/controls",
            "_model_module_version": "1.5.0",
            "_model_name": "ProgressStyleModel",
            "_view_count": null,
            "_view_module": "@jupyter-widgets/base",
            "_view_module_version": "1.2.0",
            "_view_name": "StyleView",
            "bar_color": null,
            "description_width": ""
          }
        },
        "5143a2a9416b426c9eae6c1596067bc2": {
          "model_module": "@jupyter-widgets/controls",
          "model_module_version": "1.5.0",
          "model_name": "HTMLModel",
          "state": {
            "_dom_classes": [],
            "_model_module": "@jupyter-widgets/controls",
            "_model_module_version": "1.5.0",
            "_model_name": "HTMLModel",
            "_view_count": null,
            "_view_module": "@jupyter-widgets/controls",
            "_view_module_version": "1.5.0",
            "_view_name": "HTMLView",
            "description": "",
            "description_tooltip": null,
            "layout": "IPY_MODEL_0d17791a42fd4eb09692ea1b5a1b525c",
            "placeholder": "​",
            "style": "IPY_MODEL_7fffd3f854484a6283cbf82c06d96105",
            "value": " 40.3k/40.3k [00:00&lt;00:00, 3.59MB/s]"
          }
        },
        "52a4924f76ac4040a10d80f2e41d85c5": {
          "model_module": "@jupyter-widgets/controls",
          "model_module_version": "1.5.0",
          "model_name": "HTMLModel",
          "state": {
            "_dom_classes": [],
            "_model_module": "@jupyter-widgets/controls",
            "_model_module_version": "1.5.0",
            "_model_name": "HTMLModel",
            "_view_count": null,
            "_view_module": "@jupyter-widgets/controls",
            "_view_module_version": "1.5.0",
            "_view_name": "HTMLView",
            "description": "",
            "description_tooltip": null,
            "layout": "IPY_MODEL_af965e897716461b9e33ca491ac567fd",
            "placeholder": "​",
            "style": "IPY_MODEL_5985157bcc954b78a49274dda291c363",
            "value": "config.json: 100%"
          }
        },
        "5455a9fd3587436c83a6eab54ce14ac5": {
          "model_module": "@jupyter-widgets/controls",
          "model_module_version": "1.5.0",
          "model_name": "HTMLModel",
          "state": {
            "_dom_classes": [],
            "_model_module": "@jupyter-widgets/controls",
            "_model_module_version": "1.5.0",
            "_model_name": "HTMLModel",
            "_view_count": null,
            "_view_module": "@jupyter-widgets/controls",
            "_view_module_version": "1.5.0",
            "_view_name": "HTMLView",
            "description": "",
            "description_tooltip": null,
            "layout": "IPY_MODEL_f798e46a91c8410aa892d1f478ad2d70",
            "placeholder": "​",
            "style": "IPY_MODEL_a0aa05ed25f14fdc8c9d9d0772df1b40",
            "value": "tokenizer_config.json: 100%"
          }
        },
        "58e831e4c82c49cfb40ed7ed2f6cf4bd": {
          "model_module": "@jupyter-widgets/controls",
          "model_module_version": "1.5.0",
          "model_name": "DescriptionStyleModel",
          "state": {
            "_model_module": "@jupyter-widgets/controls",
            "_model_module_version": "1.5.0",
            "_model_name": "DescriptionStyleModel",
            "_view_count": null,
            "_view_module": "@jupyter-widgets/base",
            "_view_module_version": "1.2.0",
            "_view_name": "StyleView",
            "description_width": ""
          }
        },
        "59652589ab22418eb1d7ad50b5c85887": {
          "model_module": "@jupyter-widgets/controls",
          "model_module_version": "1.5.0",
          "model_name": "ProgressStyleModel",
          "state": {
            "_model_module": "@jupyter-widgets/controls",
            "_model_module_version": "1.5.0",
            "_model_name": "ProgressStyleModel",
            "_view_count": null,
            "_view_module": "@jupyter-widgets/base",
            "_view_module_version": "1.2.0",
            "_view_name": "StyleView",
            "bar_color": null,
            "description_width": ""
          }
        },
        "5985157bcc954b78a49274dda291c363": {
          "model_module": "@jupyter-widgets/controls",
          "model_module_version": "1.5.0",
          "model_name": "DescriptionStyleModel",
          "state": {
            "_model_module": "@jupyter-widgets/controls",
            "_model_module_version": "1.5.0",
            "_model_name": "DescriptionStyleModel",
            "_view_count": null,
            "_view_module": "@jupyter-widgets/base",
            "_view_module_version": "1.2.0",
            "_view_name": "StyleView",
            "description_width": ""
          }
        },
        "5a83be75e10945f8b0af7bc44276d124": {
          "model_module": "@jupyter-widgets/controls",
          "model_module_version": "1.5.0",
          "model_name": "FloatProgressModel",
          "state": {
            "_dom_classes": [],
            "_model_module": "@jupyter-widgets/controls",
            "_model_module_version": "1.5.0",
            "_model_name": "FloatProgressModel",
            "_view_count": null,
            "_view_module": "@jupyter-widgets/controls",
            "_view_module_version": "1.5.0",
            "_view_name": "ProgressView",
            "bar_style": "success",
            "description": "",
            "description_tooltip": null,
            "layout": "IPY_MODEL_6c44d7fb63214d46af08ebdd759ee53e",
            "max": 1241,
            "min": 0,
            "orientation": "horizontal",
            "style": "IPY_MODEL_168cf53139f84758bc90ce3b6a154256",
            "value": 1241
          }
        },
        "5c701aeee52d40a8b87cbb52a5e3b806": {
          "model_module": "@jupyter-widgets/controls",
          "model_module_version": "1.5.0",
          "model_name": "DescriptionStyleModel",
          "state": {
            "_model_module": "@jupyter-widgets/controls",
            "_model_module_version": "1.5.0",
            "_model_name": "DescriptionStyleModel",
            "_view_count": null,
            "_view_module": "@jupyter-widgets/base",
            "_view_module_version": "1.2.0",
            "_view_name": "StyleView",
            "description_width": ""
          }
        },
        "6325154b87d543d392c59db52668ae7c": {
          "model_module": "@jupyter-widgets/controls",
          "model_module_version": "1.5.0",
          "model_name": "DescriptionStyleModel",
          "state": {
            "_model_module": "@jupyter-widgets/controls",
            "_model_module_version": "1.5.0",
            "_model_name": "DescriptionStyleModel",
            "_view_count": null,
            "_view_module": "@jupyter-widgets/base",
            "_view_module_version": "1.2.0",
            "_view_name": "StyleView",
            "description_width": ""
          }
        },
        "665939cf0d2940fa976d9e80157e65e6": {
          "model_module": "@jupyter-widgets/controls",
          "model_module_version": "1.5.0",
          "model_name": "HTMLModel",
          "state": {
            "_dom_classes": [],
            "_model_module": "@jupyter-widgets/controls",
            "_model_module_version": "1.5.0",
            "_model_name": "HTMLModel",
            "_view_count": null,
            "_view_module": "@jupyter-widgets/controls",
            "_view_module_version": "1.5.0",
            "_view_name": "HTMLView",
            "description": "",
            "description_tooltip": null,
            "layout": "IPY_MODEL_a68130d522e0446da6a20bbc8c649eb2",
            "placeholder": "​",
            "style": "IPY_MODEL_3eac733da7ad49df95ee28f892cbec1b",
            "value": " 17.2M/17.2M [00:00&lt;00:00, 132MB/s]"
          }
        },
        "6827b2cfc0414e1ebd77e7e6c026b18c": {
          "model_module": "@jupyter-widgets/controls",
          "model_module_version": "1.5.0",
          "model_name": "FloatProgressModel",
          "state": {
            "_dom_classes": [],
            "_model_module": "@jupyter-widgets/controls",
            "_model_module_version": "1.5.0",
            "_model_name": "FloatProgressModel",
            "_view_count": null,
            "_view_module": "@jupyter-widgets/controls",
            "_view_module_version": "1.5.0",
            "_view_name": "ProgressView",
            "bar_style": "success",
            "description": "",
            "description_tooltip": null,
            "layout": "IPY_MODEL_ae063ceb11614e1dba3ac0f79320bbcb",
            "max": 12138,
            "min": 0,
            "orientation": "horizontal",
            "style": "IPY_MODEL_48a23f0a7b6b444d945c5f5023c635b4",
            "value": 12138
          }
        },
        "69b3b68727fa41d8aecf7f997faba394": {
          "model_module": "@jupyter-widgets/base",
          "model_module_version": "1.2.0",
          "model_name": "LayoutModel",
          "state": {
            "_model_module": "@jupyter-widgets/base",
            "_model_module_version": "1.2.0",
            "_model_name": "LayoutModel",
            "_view_count": null,
            "_view_module": "@jupyter-widgets/base",
            "_view_module_version": "1.2.0",
            "_view_name": "LayoutView",
            "align_content": null,
            "align_items": null,
            "align_self": null,
            "border": null,
            "bottom": null,
            "display": null,
            "flex": null,
            "flex_flow": null,
            "grid_area": null,
            "grid_auto_columns": null,
            "grid_auto_flow": null,
            "grid_auto_rows": null,
            "grid_column": null,
            "grid_gap": null,
            "grid_row": null,
            "grid_template_areas": null,
            "grid_template_columns": null,
            "grid_template_rows": null,
            "height": null,
            "justify_content": null,
            "justify_items": null,
            "left": null,
            "margin": null,
            "max_height": null,
            "max_width": null,
            "min_height": null,
            "min_width": null,
            "object_fit": null,
            "object_position": null,
            "order": null,
            "overflow": null,
            "overflow_x": null,
            "overflow_y": null,
            "padding": null,
            "right": null,
            "top": null,
            "visibility": null,
            "width": null
          }
        },
        "6c44d7fb63214d46af08ebdd759ee53e": {
          "model_module": "@jupyter-widgets/base",
          "model_module_version": "1.2.0",
          "model_name": "LayoutModel",
          "state": {
            "_model_module": "@jupyter-widgets/base",
            "_model_module_version": "1.2.0",
            "_model_name": "LayoutModel",
            "_view_count": null,
            "_view_module": "@jupyter-widgets/base",
            "_view_module_version": "1.2.0",
            "_view_name": "LayoutView",
            "align_content": null,
            "align_items": null,
            "align_self": null,
            "border": null,
            "bottom": null,
            "display": null,
            "flex": null,
            "flex_flow": null,
            "grid_area": null,
            "grid_auto_columns": null,
            "grid_auto_flow": null,
            "grid_auto_rows": null,
            "grid_column": null,
            "grid_gap": null,
            "grid_row": null,
            "grid_template_areas": null,
            "grid_template_columns": null,
            "grid_template_rows": null,
            "height": null,
            "justify_content": null,
            "justify_items": null,
            "left": null,
            "margin": null,
            "max_height": null,
            "max_width": null,
            "min_height": null,
            "min_width": null,
            "object_fit": null,
            "object_position": null,
            "order": null,
            "overflow": null,
            "overflow_x": null,
            "overflow_y": null,
            "padding": null,
            "right": null,
            "top": null,
            "visibility": null,
            "width": null
          }
        },
        "78197911b93644af84fd51e8bf0f0651": {
          "model_module": "@jupyter-widgets/controls",
          "model_module_version": "1.5.0",
          "model_name": "DescriptionStyleModel",
          "state": {
            "_model_module": "@jupyter-widgets/controls",
            "_model_module_version": "1.5.0",
            "_model_name": "DescriptionStyleModel",
            "_view_count": null,
            "_view_module": "@jupyter-widgets/base",
            "_view_module_version": "1.2.0",
            "_view_name": "StyleView",
            "description_width": ""
          }
        },
        "7cd1ebdd884741bda28abce56f2fffb0": {
          "model_module": "@jupyter-widgets/controls",
          "model_module_version": "1.5.0",
          "model_name": "HTMLModel",
          "state": {
            "_dom_classes": [],
            "_model_module": "@jupyter-widgets/controls",
            "_model_module_version": "1.5.0",
            "_model_name": "HTMLModel",
            "_view_count": null,
            "_view_module": "@jupyter-widgets/controls",
            "_view_module_version": "1.5.0",
            "_view_name": "HTMLView",
            "description": "",
            "description_tooltip": null,
            "layout": "IPY_MODEL_28af5c070dc446aca3d74c22a041e14f",
            "placeholder": "​",
            "style": "IPY_MODEL_c1f3c98b4eed4e9f8b357b76946ac499",
            "value": " 1.24k/1.24k [00:00&lt;00:00, 115kB/s]"
          }
        },
        "7e913f76f66a45b3ae83ef38bf5aae54": {
          "model_module": "@jupyter-widgets/base",
          "model_module_version": "1.2.0",
          "model_name": "LayoutModel",
          "state": {
            "_model_module": "@jupyter-widgets/base",
            "_model_module_version": "1.2.0",
            "_model_name": "LayoutModel",
            "_view_count": null,
            "_view_module": "@jupyter-widgets/base",
            "_view_module_version": "1.2.0",
            "_view_name": "LayoutView",
            "align_content": null,
            "align_items": null,
            "align_self": null,
            "border": null,
            "bottom": null,
            "display": null,
            "flex": null,
            "flex_flow": null,
            "grid_area": null,
            "grid_auto_columns": null,
            "grid_auto_flow": null,
            "grid_auto_rows": null,
            "grid_column": null,
            "grid_gap": null,
            "grid_row": null,
            "grid_template_areas": null,
            "grid_template_columns": null,
            "grid_template_rows": null,
            "height": null,
            "justify_content": null,
            "justify_items": null,
            "left": null,
            "margin": null,
            "max_height": null,
            "max_width": null,
            "min_height": null,
            "min_width": null,
            "object_fit": null,
            "object_position": null,
            "order": null,
            "overflow": null,
            "overflow_x": null,
            "overflow_y": null,
            "padding": null,
            "right": null,
            "top": null,
            "visibility": null,
            "width": null
          }
        },
        "7fffd3f854484a6283cbf82c06d96105": {
          "model_module": "@jupyter-widgets/controls",
          "model_module_version": "1.5.0",
          "model_name": "DescriptionStyleModel",
          "state": {
            "_model_module": "@jupyter-widgets/controls",
            "_model_module_version": "1.5.0",
            "_model_name": "DescriptionStyleModel",
            "_view_count": null,
            "_view_module": "@jupyter-widgets/base",
            "_view_module_version": "1.2.0",
            "_view_name": "StyleView",
            "description_width": ""
          }
        },
        "82e58644ba2a4aa1978810004548f108": {
          "model_module": "@jupyter-widgets/base",
          "model_module_version": "1.2.0",
          "model_name": "LayoutModel",
          "state": {
            "_model_module": "@jupyter-widgets/base",
            "_model_module_version": "1.2.0",
            "_model_name": "LayoutModel",
            "_view_count": null,
            "_view_module": "@jupyter-widgets/base",
            "_view_module_version": "1.2.0",
            "_view_name": "LayoutView",
            "align_content": null,
            "align_items": null,
            "align_self": null,
            "border": null,
            "bottom": null,
            "display": null,
            "flex": null,
            "flex_flow": null,
            "grid_area": null,
            "grid_auto_columns": null,
            "grid_auto_flow": null,
            "grid_auto_rows": null,
            "grid_column": null,
            "grid_gap": null,
            "grid_row": null,
            "grid_template_areas": null,
            "grid_template_columns": null,
            "grid_template_rows": null,
            "height": null,
            "justify_content": null,
            "justify_items": null,
            "left": null,
            "margin": null,
            "max_height": null,
            "max_width": null,
            "min_height": null,
            "min_width": null,
            "object_fit": null,
            "object_position": null,
            "order": null,
            "overflow": null,
            "overflow_x": null,
            "overflow_y": null,
            "padding": null,
            "right": null,
            "top": null,
            "visibility": null,
            "width": null
          }
        },
        "891dfa36ae4044c395b247788608944a": {
          "model_module": "@jupyter-widgets/base",
          "model_module_version": "1.2.0",
          "model_name": "LayoutModel",
          "state": {
            "_model_module": "@jupyter-widgets/base",
            "_model_module_version": "1.2.0",
            "_model_name": "LayoutModel",
            "_view_count": null,
            "_view_module": "@jupyter-widgets/base",
            "_view_module_version": "1.2.0",
            "_view_name": "LayoutView",
            "align_content": null,
            "align_items": null,
            "align_self": null,
            "border": null,
            "bottom": null,
            "display": null,
            "flex": null,
            "flex_flow": null,
            "grid_area": null,
            "grid_auto_columns": null,
            "grid_auto_flow": null,
            "grid_auto_rows": null,
            "grid_column": null,
            "grid_gap": null,
            "grid_row": null,
            "grid_template_areas": null,
            "grid_template_columns": null,
            "grid_template_rows": null,
            "height": null,
            "justify_content": null,
            "justify_items": null,
            "left": null,
            "margin": null,
            "max_height": null,
            "max_width": null,
            "min_height": null,
            "min_width": null,
            "object_fit": null,
            "object_position": null,
            "order": null,
            "overflow": null,
            "overflow_x": null,
            "overflow_y": null,
            "padding": null,
            "right": null,
            "top": null,
            "visibility": null,
            "width": null
          }
        },
        "8c4abe02f9c6447e8d9a158f7cdc3d16": {
          "model_module": "@jupyter-widgets/controls",
          "model_module_version": "1.5.0",
          "model_name": "HTMLModel",
          "state": {
            "_dom_classes": [],
            "_model_module": "@jupyter-widgets/controls",
            "_model_module_version": "1.5.0",
            "_model_name": "HTMLModel",
            "_view_count": null,
            "_view_module": "@jupyter-widgets/controls",
            "_view_module_version": "1.5.0",
            "_view_name": "HTMLView",
            "description": "",
            "description_tooltip": null,
            "layout": "IPY_MODEL_361e83915b194ad38a3fadaef2b5c5da",
            "placeholder": "​",
            "style": "IPY_MODEL_78197911b93644af84fd51e8bf0f0651",
            "value": "configuration_eurobert.py: 100%"
          }
        },
        "92e2ad1d18944c8b81edd486a56f0975": {
          "model_module": "@jupyter-widgets/controls",
          "model_module_version": "1.5.0",
          "model_name": "HBoxModel",
          "state": {
            "_dom_classes": [],
            "_model_module": "@jupyter-widgets/controls",
            "_model_module_version": "1.5.0",
            "_model_name": "HBoxModel",
            "_view_count": null,
            "_view_module": "@jupyter-widgets/controls",
            "_view_module_version": "1.5.0",
            "_view_name": "HBoxView",
            "box_style": "",
            "children": [
              "IPY_MODEL_33db105ed6ea46a287ea5f3714c10c24",
              "IPY_MODEL_d8350e772fed4996b27c95a8ea0f4e07",
              "IPY_MODEL_a0adfd34a6a243849cc8fba32e0880f9"
            ],
            "layout": "IPY_MODEL_7e913f76f66a45b3ae83ef38bf5aae54"
          }
        },
        "9ac47e99de4e4d63b9530a27681d6023": {
          "model_module": "@jupyter-widgets/controls",
          "model_module_version": "1.5.0",
          "model_name": "FloatProgressModel",
          "state": {
            "_dom_classes": [],
            "_model_module": "@jupyter-widgets/controls",
            "_model_module_version": "1.5.0",
            "_model_name": "FloatProgressModel",
            "_view_count": null,
            "_view_module": "@jupyter-widgets/controls",
            "_view_module_version": "1.5.0",
            "_view_name": "ProgressView",
            "bar_style": "success",
            "description": "",
            "description_tooltip": null,
            "layout": "IPY_MODEL_3383c26564c34834b486ed3cf9555794",
            "max": 1241078936,
            "min": 0,
            "orientation": "horizontal",
            "style": "IPY_MODEL_59652589ab22418eb1d7ad50b5c85887",
            "value": 1241078936
          }
        },
        "a0aa05ed25f14fdc8c9d9d0772df1b40": {
          "model_module": "@jupyter-widgets/controls",
          "model_module_version": "1.5.0",
          "model_name": "DescriptionStyleModel",
          "state": {
            "_model_module": "@jupyter-widgets/controls",
            "_model_module_version": "1.5.0",
            "_model_name": "DescriptionStyleModel",
            "_view_count": null,
            "_view_module": "@jupyter-widgets/base",
            "_view_module_version": "1.2.0",
            "_view_name": "StyleView",
            "description_width": ""
          }
        },
        "a0adfd34a6a243849cc8fba32e0880f9": {
          "model_module": "@jupyter-widgets/controls",
          "model_module_version": "1.5.0",
          "model_name": "HTMLModel",
          "state": {
            "_dom_classes": [],
            "_model_module": "@jupyter-widgets/controls",
            "_model_module_version": "1.5.0",
            "_model_name": "HTMLModel",
            "_view_count": null,
            "_view_module": "@jupyter-widgets/controls",
            "_view_module_version": "1.5.0",
            "_view_name": "HTMLView",
            "description": "",
            "description_tooltip": null,
            "layout": "IPY_MODEL_c95f22480c3342679be474220d2e31f6",
            "placeholder": "​",
            "style": "IPY_MODEL_0743f7468b254209abbc89b4fb5d8434",
            "value": " 590/590 [00:00&lt;00:00, 51.9kB/s]"
          }
        },
        "a3b62f918b544a6092d13ac6f637a1d5": {
          "model_module": "@jupyter-widgets/controls",
          "model_module_version": "1.5.0",
          "model_name": "HBoxModel",
          "state": {
            "_dom_classes": [],
            "_model_module": "@jupyter-widgets/controls",
            "_model_module_version": "1.5.0",
            "_model_name": "HBoxModel",
            "_view_count": null,
            "_view_module": "@jupyter-widgets/controls",
            "_view_module_version": "1.5.0",
            "_view_name": "HBoxView",
            "box_style": "",
            "children": [
              "IPY_MODEL_52a4924f76ac4040a10d80f2e41d85c5",
              "IPY_MODEL_5a83be75e10945f8b0af7bc44276d124",
              "IPY_MODEL_7cd1ebdd884741bda28abce56f2fffb0"
            ],
            "layout": "IPY_MODEL_891dfa36ae4044c395b247788608944a"
          }
        },
        "a4c275156d094545ba187ff1a02fa6ec": {
          "model_module": "@jupyter-widgets/base",
          "model_module_version": "1.2.0",
          "model_name": "LayoutModel",
          "state": {
            "_model_module": "@jupyter-widgets/base",
            "_model_module_version": "1.2.0",
            "_model_name": "LayoutModel",
            "_view_count": null,
            "_view_module": "@jupyter-widgets/base",
            "_view_module_version": "1.2.0",
            "_view_name": "LayoutView",
            "align_content": null,
            "align_items": null,
            "align_self": null,
            "border": null,
            "bottom": null,
            "display": null,
            "flex": null,
            "flex_flow": null,
            "grid_area": null,
            "grid_auto_columns": null,
            "grid_auto_flow": null,
            "grid_auto_rows": null,
            "grid_column": null,
            "grid_gap": null,
            "grid_row": null,
            "grid_template_areas": null,
            "grid_template_columns": null,
            "grid_template_rows": null,
            "height": null,
            "justify_content": null,
            "justify_items": null,
            "left": null,
            "margin": null,
            "max_height": null,
            "max_width": null,
            "min_height": null,
            "min_width": null,
            "object_fit": null,
            "object_position": null,
            "order": null,
            "overflow": null,
            "overflow_x": null,
            "overflow_y": null,
            "padding": null,
            "right": null,
            "top": null,
            "visibility": null,
            "width": null
          }
        },
        "a68130d522e0446da6a20bbc8c649eb2": {
          "model_module": "@jupyter-widgets/base",
          "model_module_version": "1.2.0",
          "model_name": "LayoutModel",
          "state": {
            "_model_module": "@jupyter-widgets/base",
            "_model_module_version": "1.2.0",
            "_model_name": "LayoutModel",
            "_view_count": null,
            "_view_module": "@jupyter-widgets/base",
            "_view_module_version": "1.2.0",
            "_view_name": "LayoutView",
            "align_content": null,
            "align_items": null,
            "align_self": null,
            "border": null,
            "bottom": null,
            "display": null,
            "flex": null,
            "flex_flow": null,
            "grid_area": null,
            "grid_auto_columns": null,
            "grid_auto_flow": null,
            "grid_auto_rows": null,
            "grid_column": null,
            "grid_gap": null,
            "grid_row": null,
            "grid_template_areas": null,
            "grid_template_columns": null,
            "grid_template_rows": null,
            "height": null,
            "justify_content": null,
            "justify_items": null,
            "left": null,
            "margin": null,
            "max_height": null,
            "max_width": null,
            "min_height": null,
            "min_width": null,
            "object_fit": null,
            "object_position": null,
            "order": null,
            "overflow": null,
            "overflow_x": null,
            "overflow_y": null,
            "padding": null,
            "right": null,
            "top": null,
            "visibility": null,
            "width": null
          }
        },
        "a7ffb185ed4b40668b6dee5d288223d1": {
          "model_module": "@jupyter-widgets/controls",
          "model_module_version": "1.5.0",
          "model_name": "FloatProgressModel",
          "state": {
            "_dom_classes": [],
            "_model_module": "@jupyter-widgets/controls",
            "_model_module_version": "1.5.0",
            "_model_name": "FloatProgressModel",
            "_view_count": null,
            "_view_module": "@jupyter-widgets/controls",
            "_view_module_version": "1.5.0",
            "_view_name": "ProgressView",
            "bar_style": "success",
            "description": "",
            "description_tooltip": null,
            "layout": "IPY_MODEL_f3e1fc14edde4629bce63d5934336e60",
            "max": 40286,
            "min": 0,
            "orientation": "horizontal",
            "style": "IPY_MODEL_509a4b31545d4584b7a0731ba5d5a7b7",
            "value": 40286
          }
        },
        "ae063ceb11614e1dba3ac0f79320bbcb": {
          "model_module": "@jupyter-widgets/base",
          "model_module_version": "1.2.0",
          "model_name": "LayoutModel",
          "state": {
            "_model_module": "@jupyter-widgets/base",
            "_model_module_version": "1.2.0",
            "_model_name": "LayoutModel",
            "_view_count": null,
            "_view_module": "@jupyter-widgets/base",
            "_view_module_version": "1.2.0",
            "_view_name": "LayoutView",
            "align_content": null,
            "align_items": null,
            "align_self": null,
            "border": null,
            "bottom": null,
            "display": null,
            "flex": null,
            "flex_flow": null,
            "grid_area": null,
            "grid_auto_columns": null,
            "grid_auto_flow": null,
            "grid_auto_rows": null,
            "grid_column": null,
            "grid_gap": null,
            "grid_row": null,
            "grid_template_areas": null,
            "grid_template_columns": null,
            "grid_template_rows": null,
            "height": null,
            "justify_content": null,
            "justify_items": null,
            "left": null,
            "margin": null,
            "max_height": null,
            "max_width": null,
            "min_height": null,
            "min_width": null,
            "object_fit": null,
            "object_position": null,
            "order": null,
            "overflow": null,
            "overflow_x": null,
            "overflow_y": null,
            "padding": null,
            "right": null,
            "top": null,
            "visibility": null,
            "width": null
          }
        },
        "af965e897716461b9e33ca491ac567fd": {
          "model_module": "@jupyter-widgets/base",
          "model_module_version": "1.2.0",
          "model_name": "LayoutModel",
          "state": {
            "_model_module": "@jupyter-widgets/base",
            "_model_module_version": "1.2.0",
            "_model_name": "LayoutModel",
            "_view_count": null,
            "_view_module": "@jupyter-widgets/base",
            "_view_module_version": "1.2.0",
            "_view_name": "LayoutView",
            "align_content": null,
            "align_items": null,
            "align_self": null,
            "border": null,
            "bottom": null,
            "display": null,
            "flex": null,
            "flex_flow": null,
            "grid_area": null,
            "grid_auto_columns": null,
            "grid_auto_flow": null,
            "grid_auto_rows": null,
            "grid_column": null,
            "grid_gap": null,
            "grid_row": null,
            "grid_template_areas": null,
            "grid_template_columns": null,
            "grid_template_rows": null,
            "height": null,
            "justify_content": null,
            "justify_items": null,
            "left": null,
            "margin": null,
            "max_height": null,
            "max_width": null,
            "min_height": null,
            "min_width": null,
            "object_fit": null,
            "object_position": null,
            "order": null,
            "overflow": null,
            "overflow_x": null,
            "overflow_y": null,
            "padding": null,
            "right": null,
            "top": null,
            "visibility": null,
            "width": null
          }
        },
        "b47069e9330c4001bec598d9cd176f25": {
          "model_module": "@jupyter-widgets/controls",
          "model_module_version": "1.5.0",
          "model_name": "ProgressStyleModel",
          "state": {
            "_model_module": "@jupyter-widgets/controls",
            "_model_module_version": "1.5.0",
            "_model_name": "ProgressStyleModel",
            "_view_count": null,
            "_view_module": "@jupyter-widgets/base",
            "_view_module_version": "1.2.0",
            "_view_name": "StyleView",
            "bar_color": null,
            "description_width": ""
          }
        },
        "bba91b51b65848dcb235ba51f7fe7c88": {
          "model_module": "@jupyter-widgets/base",
          "model_module_version": "1.2.0",
          "model_name": "LayoutModel",
          "state": {
            "_model_module": "@jupyter-widgets/base",
            "_model_module_version": "1.2.0",
            "_model_name": "LayoutModel",
            "_view_count": null,
            "_view_module": "@jupyter-widgets/base",
            "_view_module_version": "1.2.0",
            "_view_name": "LayoutView",
            "align_content": null,
            "align_items": null,
            "align_self": null,
            "border": null,
            "bottom": null,
            "display": null,
            "flex": null,
            "flex_flow": null,
            "grid_area": null,
            "grid_auto_columns": null,
            "grid_auto_flow": null,
            "grid_auto_rows": null,
            "grid_column": null,
            "grid_gap": null,
            "grid_row": null,
            "grid_template_areas": null,
            "grid_template_columns": null,
            "grid_template_rows": null,
            "height": null,
            "justify_content": null,
            "justify_items": null,
            "left": null,
            "margin": null,
            "max_height": null,
            "max_width": null,
            "min_height": null,
            "min_width": null,
            "object_fit": null,
            "object_position": null,
            "order": null,
            "overflow": null,
            "overflow_x": null,
            "overflow_y": null,
            "padding": null,
            "right": null,
            "top": null,
            "visibility": null,
            "width": null
          }
        },
        "c1df5dc24d4c48d69dfc516fd2ba3625": {
          "model_module": "@jupyter-widgets/controls",
          "model_module_version": "1.5.0",
          "model_name": "HTMLModel",
          "state": {
            "_dom_classes": [],
            "_model_module": "@jupyter-widgets/controls",
            "_model_module_version": "1.5.0",
            "_model_name": "HTMLModel",
            "_view_count": null,
            "_view_module": "@jupyter-widgets/controls",
            "_view_module_version": "1.5.0",
            "_view_name": "HTMLView",
            "description": "",
            "description_tooltip": null,
            "layout": "IPY_MODEL_31374a66336845d698bbd195587ab97e",
            "placeholder": "​",
            "style": "IPY_MODEL_e9fb139c680449399a4b3df81d8623c5",
            "value": " 55.4k/55.4k [00:00&lt;00:00, 329kB/s]"
          }
        },
        "c1f3c98b4eed4e9f8b357b76946ac499": {
          "model_module": "@jupyter-widgets/controls",
          "model_module_version": "1.5.0",
          "model_name": "DescriptionStyleModel",
          "state": {
            "_model_module": "@jupyter-widgets/controls",
            "_model_module_version": "1.5.0",
            "_model_name": "DescriptionStyleModel",
            "_view_count": null,
            "_view_module": "@jupyter-widgets/base",
            "_view_module_version": "1.2.0",
            "_view_name": "StyleView",
            "description_width": ""
          }
        },
        "c4789298fc0743c1b0b30e33347e8c95": {
          "model_module": "@jupyter-widgets/controls",
          "model_module_version": "1.5.0",
          "model_name": "HTMLModel",
          "state": {
            "_dom_classes": [],
            "_model_module": "@jupyter-widgets/controls",
            "_model_module_version": "1.5.0",
            "_model_name": "HTMLModel",
            "_view_count": null,
            "_view_module": "@jupyter-widgets/controls",
            "_view_module_version": "1.5.0",
            "_view_name": "HTMLView",
            "description": "",
            "description_tooltip": null,
            "layout": "IPY_MODEL_bba91b51b65848dcb235ba51f7fe7c88",
            "placeholder": "​",
            "style": "IPY_MODEL_426264b00c234e4d96c4a3fe1a0eedc5",
            "value": "modeling_eurobert.py: 100%"
          }
        },
        "c95f22480c3342679be474220d2e31f6": {
          "model_module": "@jupyter-widgets/base",
          "model_module_version": "1.2.0",
          "model_name": "LayoutModel",
          "state": {
            "_model_module": "@jupyter-widgets/base",
            "_model_module_version": "1.2.0",
            "_model_name": "LayoutModel",
            "_view_count": null,
            "_view_module": "@jupyter-widgets/base",
            "_view_module_version": "1.2.0",
            "_view_name": "LayoutView",
            "align_content": null,
            "align_items": null,
            "align_self": null,
            "border": null,
            "bottom": null,
            "display": null,
            "flex": null,
            "flex_flow": null,
            "grid_area": null,
            "grid_auto_columns": null,
            "grid_auto_flow": null,
            "grid_auto_rows": null,
            "grid_column": null,
            "grid_gap": null,
            "grid_row": null,
            "grid_template_areas": null,
            "grid_template_columns": null,
            "grid_template_rows": null,
            "height": null,
            "justify_content": null,
            "justify_items": null,
            "left": null,
            "margin": null,
            "max_height": null,
            "max_width": null,
            "min_height": null,
            "min_width": null,
            "object_fit": null,
            "object_position": null,
            "order": null,
            "overflow": null,
            "overflow_x": null,
            "overflow_y": null,
            "padding": null,
            "right": null,
            "top": null,
            "visibility": null,
            "width": null
          }
        },
        "d30a9e76610a49929e0a597e738a70cc": {
          "model_module": "@jupyter-widgets/base",
          "model_module_version": "1.2.0",
          "model_name": "LayoutModel",
          "state": {
            "_model_module": "@jupyter-widgets/base",
            "_model_module_version": "1.2.0",
            "_model_name": "LayoutModel",
            "_view_count": null,
            "_view_module": "@jupyter-widgets/base",
            "_view_module_version": "1.2.0",
            "_view_name": "LayoutView",
            "align_content": null,
            "align_items": null,
            "align_self": null,
            "border": null,
            "bottom": null,
            "display": null,
            "flex": null,
            "flex_flow": null,
            "grid_area": null,
            "grid_auto_columns": null,
            "grid_auto_flow": null,
            "grid_auto_rows": null,
            "grid_column": null,
            "grid_gap": null,
            "grid_row": null,
            "grid_template_areas": null,
            "grid_template_columns": null,
            "grid_template_rows": null,
            "height": null,
            "justify_content": null,
            "justify_items": null,
            "left": null,
            "margin": null,
            "max_height": null,
            "max_width": null,
            "min_height": null,
            "min_width": null,
            "object_fit": null,
            "object_position": null,
            "order": null,
            "overflow": null,
            "overflow_x": null,
            "overflow_y": null,
            "padding": null,
            "right": null,
            "top": null,
            "visibility": null,
            "width": null
          }
        },
        "d65cc3e2988c4909ade48b52f1837624": {
          "model_module": "@jupyter-widgets/controls",
          "model_module_version": "1.5.0",
          "model_name": "FloatProgressModel",
          "state": {
            "_dom_classes": [],
            "_model_module": "@jupyter-widgets/controls",
            "_model_module_version": "1.5.0",
            "_model_name": "FloatProgressModel",
            "_view_count": null,
            "_view_module": "@jupyter-widgets/controls",
            "_view_module_version": "1.5.0",
            "_view_name": "ProgressView",
            "bar_style": "success",
            "description": "",
            "description_tooltip": null,
            "layout": "IPY_MODEL_1af399b3030d477ea3e8950f336898b6",
            "max": 55448,
            "min": 0,
            "orientation": "horizontal",
            "style": "IPY_MODEL_b47069e9330c4001bec598d9cd176f25",
            "value": 55448
          }
        },
        "d6f238286736428190f7561fcca8746e": {
          "model_module": "@jupyter-widgets/controls",
          "model_module_version": "1.5.0",
          "model_name": "HTMLModel",
          "state": {
            "_dom_classes": [],
            "_model_module": "@jupyter-widgets/controls",
            "_model_module_version": "1.5.0",
            "_model_name": "HTMLModel",
            "_view_count": null,
            "_view_module": "@jupyter-widgets/controls",
            "_view_module_version": "1.5.0",
            "_view_name": "HTMLView",
            "description": "",
            "description_tooltip": null,
            "layout": "IPY_MODEL_2ad342334cf54609824a856284729674",
            "placeholder": "​",
            "style": "IPY_MODEL_5c701aeee52d40a8b87cbb52a5e3b806",
            "value": " 12.1k/12.1k [00:00&lt;00:00, 970kB/s]"
          }
        },
        "d8350e772fed4996b27c95a8ea0f4e07": {
          "model_module": "@jupyter-widgets/controls",
          "model_module_version": "1.5.0",
          "model_name": "FloatProgressModel",
          "state": {
            "_dom_classes": [],
            "_model_module": "@jupyter-widgets/controls",
            "_model_module_version": "1.5.0",
            "_model_name": "FloatProgressModel",
            "_view_count": null,
            "_view_module": "@jupyter-widgets/controls",
            "_view_module_version": "1.5.0",
            "_view_name": "ProgressView",
            "bar_style": "success",
            "description": "",
            "description_tooltip": null,
            "layout": "IPY_MODEL_82e58644ba2a4aa1978810004548f108",
            "max": 590,
            "min": 0,
            "orientation": "horizontal",
            "style": "IPY_MODEL_dfb5bc100e2544cdbfa86f97422ef91d",
            "value": 590
          }
        },
        "dad360a230584e6db43b30ea34bb1a4d": {
          "model_module": "@jupyter-widgets/controls",
          "model_module_version": "1.5.0",
          "model_name": "HBoxModel",
          "state": {
            "_dom_classes": [],
            "_model_module": "@jupyter-widgets/controls",
            "_model_module_version": "1.5.0",
            "_model_name": "HBoxModel",
            "_view_count": null,
            "_view_module": "@jupyter-widgets/controls",
            "_view_module_version": "1.5.0",
            "_view_name": "HBoxView",
            "box_style": "",
            "children": [
              "IPY_MODEL_c4789298fc0743c1b0b30e33347e8c95",
              "IPY_MODEL_a7ffb185ed4b40668b6dee5d288223d1",
              "IPY_MODEL_5143a2a9416b426c9eae6c1596067bc2"
            ],
            "layout": "IPY_MODEL_193d3071e8444709911bfda47a6d0293"
          }
        },
        "dbfd78acaa2f47a29c3503bfbb85f214": {
          "model_module": "@jupyter-widgets/controls",
          "model_module_version": "1.5.0",
          "model_name": "ProgressStyleModel",
          "state": {
            "_model_module": "@jupyter-widgets/controls",
            "_model_module_version": "1.5.0",
            "_model_name": "ProgressStyleModel",
            "_view_count": null,
            "_view_module": "@jupyter-widgets/base",
            "_view_module_version": "1.2.0",
            "_view_name": "StyleView",
            "bar_color": null,
            "description_width": ""
          }
        },
        "dfb5bc100e2544cdbfa86f97422ef91d": {
          "model_module": "@jupyter-widgets/controls",
          "model_module_version": "1.5.0",
          "model_name": "ProgressStyleModel",
          "state": {
            "_model_module": "@jupyter-widgets/controls",
            "_model_module_version": "1.5.0",
            "_model_name": "ProgressStyleModel",
            "_view_count": null,
            "_view_module": "@jupyter-widgets/base",
            "_view_module_version": "1.2.0",
            "_view_name": "StyleView",
            "bar_color": null,
            "description_width": ""
          }
        },
        "e86877405c04456f92ddb86161cac54b": {
          "model_module": "@jupyter-widgets/base",
          "model_module_version": "1.2.0",
          "model_name": "LayoutModel",
          "state": {
            "_model_module": "@jupyter-widgets/base",
            "_model_module_version": "1.2.0",
            "_model_name": "LayoutModel",
            "_view_count": null,
            "_view_module": "@jupyter-widgets/base",
            "_view_module_version": "1.2.0",
            "_view_name": "LayoutView",
            "align_content": null,
            "align_items": null,
            "align_self": null,
            "border": null,
            "bottom": null,
            "display": null,
            "flex": null,
            "flex_flow": null,
            "grid_area": null,
            "grid_auto_columns": null,
            "grid_auto_flow": null,
            "grid_auto_rows": null,
            "grid_column": null,
            "grid_gap": null,
            "grid_row": null,
            "grid_template_areas": null,
            "grid_template_columns": null,
            "grid_template_rows": null,
            "height": null,
            "justify_content": null,
            "justify_items": null,
            "left": null,
            "margin": null,
            "max_height": null,
            "max_width": null,
            "min_height": null,
            "min_width": null,
            "object_fit": null,
            "object_position": null,
            "order": null,
            "overflow": null,
            "overflow_x": null,
            "overflow_y": null,
            "padding": null,
            "right": null,
            "top": null,
            "visibility": null,
            "width": null
          }
        },
        "e9fb139c680449399a4b3df81d8623c5": {
          "model_module": "@jupyter-widgets/controls",
          "model_module_version": "1.5.0",
          "model_name": "DescriptionStyleModel",
          "state": {
            "_model_module": "@jupyter-widgets/controls",
            "_model_module_version": "1.5.0",
            "_model_name": "DescriptionStyleModel",
            "_view_count": null,
            "_view_module": "@jupyter-widgets/base",
            "_view_module_version": "1.2.0",
            "_view_name": "StyleView",
            "description_width": ""
          }
        },
        "f3e1fc14edde4629bce63d5934336e60": {
          "model_module": "@jupyter-widgets/base",
          "model_module_version": "1.2.0",
          "model_name": "LayoutModel",
          "state": {
            "_model_module": "@jupyter-widgets/base",
            "_model_module_version": "1.2.0",
            "_model_name": "LayoutModel",
            "_view_count": null,
            "_view_module": "@jupyter-widgets/base",
            "_view_module_version": "1.2.0",
            "_view_name": "LayoutView",
            "align_content": null,
            "align_items": null,
            "align_self": null,
            "border": null,
            "bottom": null,
            "display": null,
            "flex": null,
            "flex_flow": null,
            "grid_area": null,
            "grid_auto_columns": null,
            "grid_auto_flow": null,
            "grid_auto_rows": null,
            "grid_column": null,
            "grid_gap": null,
            "grid_row": null,
            "grid_template_areas": null,
            "grid_template_columns": null,
            "grid_template_rows": null,
            "height": null,
            "justify_content": null,
            "justify_items": null,
            "left": null,
            "margin": null,
            "max_height": null,
            "max_width": null,
            "min_height": null,
            "min_width": null,
            "object_fit": null,
            "object_position": null,
            "order": null,
            "overflow": null,
            "overflow_x": null,
            "overflow_y": null,
            "padding": null,
            "right": null,
            "top": null,
            "visibility": null,
            "width": null
          }
        },
        "f58866e85af24241b68112743993c40a": {
          "model_module": "@jupyter-widgets/base",
          "model_module_version": "1.2.0",
          "model_name": "LayoutModel",
          "state": {
            "_model_module": "@jupyter-widgets/base",
            "_model_module_version": "1.2.0",
            "_model_name": "LayoutModel",
            "_view_count": null,
            "_view_module": "@jupyter-widgets/base",
            "_view_module_version": "1.2.0",
            "_view_name": "LayoutView",
            "align_content": null,
            "align_items": null,
            "align_self": null,
            "border": null,
            "bottom": null,
            "display": null,
            "flex": null,
            "flex_flow": null,
            "grid_area": null,
            "grid_auto_columns": null,
            "grid_auto_flow": null,
            "grid_auto_rows": null,
            "grid_column": null,
            "grid_gap": null,
            "grid_row": null,
            "grid_template_areas": null,
            "grid_template_columns": null,
            "grid_template_rows": null,
            "height": null,
            "justify_content": null,
            "justify_items": null,
            "left": null,
            "margin": null,
            "max_height": null,
            "max_width": null,
            "min_height": null,
            "min_width": null,
            "object_fit": null,
            "object_position": null,
            "order": null,
            "overflow": null,
            "overflow_x": null,
            "overflow_y": null,
            "padding": null,
            "right": null,
            "top": null,
            "visibility": null,
            "width": null
          }
        },
        "f76c8067e6024371bd54ea186917a7ff": {
          "model_module": "@jupyter-widgets/controls",
          "model_module_version": "1.5.0",
          "model_name": "DescriptionStyleModel",
          "state": {
            "_model_module": "@jupyter-widgets/controls",
            "_model_module_version": "1.5.0",
            "_model_name": "DescriptionStyleModel",
            "_view_count": null,
            "_view_module": "@jupyter-widgets/base",
            "_view_module_version": "1.2.0",
            "_view_name": "StyleView",
            "description_width": ""
          }
        },
        "f798e46a91c8410aa892d1f478ad2d70": {
          "model_module": "@jupyter-widgets/base",
          "model_module_version": "1.2.0",
          "model_name": "LayoutModel",
          "state": {
            "_model_module": "@jupyter-widgets/base",
            "_model_module_version": "1.2.0",
            "_model_name": "LayoutModel",
            "_view_count": null,
            "_view_module": "@jupyter-widgets/base",
            "_view_module_version": "1.2.0",
            "_view_name": "LayoutView",
            "align_content": null,
            "align_items": null,
            "align_self": null,
            "border": null,
            "bottom": null,
            "display": null,
            "flex": null,
            "flex_flow": null,
            "grid_area": null,
            "grid_auto_columns": null,
            "grid_auto_flow": null,
            "grid_auto_rows": null,
            "grid_column": null,
            "grid_gap": null,
            "grid_row": null,
            "grid_template_areas": null,
            "grid_template_columns": null,
            "grid_template_rows": null,
            "height": null,
            "justify_content": null,
            "justify_items": null,
            "left": null,
            "margin": null,
            "max_height": null,
            "max_width": null,
            "min_height": null,
            "min_width": null,
            "object_fit": null,
            "object_position": null,
            "order": null,
            "overflow": null,
            "overflow_x": null,
            "overflow_y": null,
            "padding": null,
            "right": null,
            "top": null,
            "visibility": null,
            "width": null
          }
        },
        "ff9313fa35e6480aa8a205f8a0d6f3f3": {
          "model_module": "@jupyter-widgets/base",
          "model_module_version": "1.2.0",
          "model_name": "LayoutModel",
          "state": {
            "_model_module": "@jupyter-widgets/base",
            "_model_module_version": "1.2.0",
            "_model_name": "LayoutModel",
            "_view_count": null,
            "_view_module": "@jupyter-widgets/base",
            "_view_module_version": "1.2.0",
            "_view_name": "LayoutView",
            "align_content": null,
            "align_items": null,
            "align_self": null,
            "border": null,
            "bottom": null,
            "display": null,
            "flex": null,
            "flex_flow": null,
            "grid_area": null,
            "grid_auto_columns": null,
            "grid_auto_flow": null,
            "grid_auto_rows": null,
            "grid_column": null,
            "grid_gap": null,
            "grid_row": null,
            "grid_template_areas": null,
            "grid_template_columns": null,
            "grid_template_rows": null,
            "height": null,
            "justify_content": null,
            "justify_items": null,
            "left": null,
            "margin": null,
            "max_height": null,
            "max_width": null,
            "min_height": null,
            "min_width": null,
            "object_fit": null,
            "object_position": null,
            "order": null,
            "overflow": null,
            "overflow_x": null,
            "overflow_y": null,
            "padding": null,
            "right": null,
            "top": null,
            "visibility": null,
            "width": null
          }
        }
      }
    }
  },
  "nbformat": 4,
  "nbformat_minor": 0
}
